{
 "cells": [
  {
   "cell_type": "markdown",
   "metadata": {},
   "source": [
    "## Pilares da orientação ao objeto\n",
    "\n",
    "- Herança: Propriedade de herdar atributos e métodos de uma classe pai.\n",
    "    - \"É um\" (Herança) - Civic \"É UM\" Carro.\n",
    "- Encapsulamento: Propriedade de usar determinado objeto sem entender como ele funciona internamente.\n",
    "    - Exemplo do controle remoto da TV.\n",
    "- Polimosfismo: Capacidade de substituir um elemento completo por um elemento abstrato\n",
    "- Abstração: Propriedade de abstrair \"simplificar\" o mundo real para o mundo do software.\n",
    "    - Exemplo: Cliente de uma loja e Cliente de uma mecâncica"
   ]
  },
  {
   "cell_type": "code",
   "execution_count": null,
   "metadata": {},
   "outputs": [],
   "source": [
    "# Criando uma classe\n",
    "class Data:\n",
    "    def to_str(self):  # método\n",
    "        return (f'{self.dia}/{self.mes}/{self.ano}')\n",
    "\n",
    "\n",
    "d1 = Data()\n",
    "d1.dia = 5\n",
    "d1.mes = 12\n",
    "d1.ano = 2019\n",
    "print(d1.to_str())\n",
    "\n",
    "d2 = Data()\n",
    "d2.dia = 7\n",
    "d2.mes = 11\n",
    "d2.ano = 2020\n",
    "print(d2.to_str())\n",
    "\n",
    "# __str__\n",
    "\n",
    "\n",
    "class Data:\n",
    "    def __str__(self):  # método\n",
    "        return (f'{self.dia}/{self.mes}/{self.ano}')\n",
    "\n",
    "\n",
    "d1 = Data()\n",
    "d1.dia = 5\n",
    "d1.mes = 12\n",
    "d1.ano = 2019\n",
    "print(d1)\n",
    "\n",
    "d2 = Data()\n",
    "d2.dia = 7\n",
    "d2.mes = 11\n",
    "d2.ano = 2020\n",
    "print(d2)"
   ]
  },
  {
   "cell_type": "code",
   "execution_count": null,
   "metadata": {},
   "outputs": [],
   "source": [
    "# Construtor: __init__\n",
    "class Data:\n",
    "    def __init__(self, dia=1, mes=1, ano=1):  # método construtor\n",
    "        self.dia = dia\n",
    "        self.mes = mes\n",
    "        self.ano = ano\n",
    "\n",
    "    def __str__(self):  # método\n",
    "        return (f'{self.dia}/{self.mes}/{self.ano}')\n",
    "\n",
    "\n",
    "d1 = Data(5, 12, 2019)\n",
    "print(d1)\n",
    "\n",
    "d2 = Data(ano=2002)\n",
    "d2.dia = 11\n",
    "print(d2)"
   ]
  },
  {
   "cell_type": "code",
   "execution_count": null,
   "metadata": {},
   "outputs": [],
   "source": [
    "# Desafio carro\n",
    "class Carro:\n",
    "    def __init__(self, velocidade_maxima):\n",
    "        self.velocidade_maxima = velocidade_maxima\n",
    "        self.velocidade_atual = 0\n",
    "\n",
    "    def acelerar(self, delta=5):\n",
    "        maxima = self.velocidade_maxima\n",
    "        nova = self.velocidade_atual + delta\n",
    "        self.velocidade_atual = nova if nova <= maxima else maxima\n",
    "        return self.velocidade_atual\n",
    "\n",
    "    def frear(self, delta=5):\n",
    "        nova = self.velocidade_atual - delta\n",
    "        self.velocidade_atual = nova if nova >= 0 else 0\n",
    "        return self.velocidade_atual\n",
    "\n",
    "    def abastecer(self, litros):\n",
    "        self.combustivel += litros\n",
    "        return self.combustivel\n",
    "\n",
    "\n",
    "if __name__ == '__main__':\n",
    "    c1 = Carro(180)\n",
    "\n",
    "    for _ in range(25):\n",
    "        print(c1.acelerar(8))\n",
    "\n",
    "    for _ in range(10):\n",
    "        print(c1.frear(delta=20))"
   ]
  },
  {
   "cell_type": "markdown",
   "metadata": {},
   "source": [
    "## Desafio POO"
   ]
  },
  {
   "cell_type": "code",
   "execution_count": 5,
   "metadata": {},
   "outputs": [
    {
     "name": "stdout",
     "output_type": "stream",
     "text": [
      "Cliente: Maria Lima (44 anos) (adulto)\n",
      "Vendedor: Pedro Garrido (36 anos)\n",
      "Total: 768 em 2 compras\n",
      "Última compra: 2023-08-03 10:44:24.344180\n"
     ]
    }
   ],
   "source": [
    "from datetime import datetime\n",
    "from loja import Cliente, Vendedor, Compra\n",
    "\n",
    "\n",
    "def main():\n",
    "    cliente = Cliente('Maria Lima', 44)\n",
    "    vendedor = Vendedor('Pedro Garrido', 36, 5000)\n",
    "    compra1 = Compra(cliente, datetime.now(), 512)\n",
    "    compra2 = Compra(cliente, datetime(2018, 6, 4), 256)\n",
    "    cliente.registrar_compra(compra1)\n",
    "    cliente.registrar_compra(compra2)\n",
    "    print(f'Cliente: {cliente}', '(adulto)' if cliente.is_adulto() else '')\n",
    "    print(f'Vendedor: {vendedor}')\n",
    "\n",
    "    valor_total = cliente.total_compras()\n",
    "    qtde_compras = len(cliente.compras)\n",
    "    print(f'Total: {valor_total} em {qtde_compras} compras')\n",
    "    print(f'Última compra: {cliente.get_data_ultima_compra()}')\n",
    "\n",
    "if __name__ == '__main__':\n",
    "    main()\n"
   ]
  }
 ],
 "metadata": {
  "kernelspec": {
   "display_name": "Python 3",
   "language": "python",
   "name": "python3"
  },
  "language_info": {
   "codemirror_mode": {
    "name": "ipython",
    "version": 3
   },
   "file_extension": ".py",
   "mimetype": "text/x-python",
   "name": "python",
   "nbconvert_exporter": "python",
   "pygments_lexer": "ipython3",
   "version": "3.11.4"
  },
  "orig_nbformat": 4
 },
 "nbformat": 4,
 "nbformat_minor": 2
}
