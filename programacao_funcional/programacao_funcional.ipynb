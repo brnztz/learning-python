{
 "cells": [
  {
   "cell_type": "markdown",
   "metadata": {},
   "source": [
    "## Função de primeira classe"
   ]
  },
  {
   "cell_type": "code",
   "execution_count": null,
   "metadata": {},
   "outputs": [],
   "source": [
    "# Uma função que é armazenada em uma variável\n",
    "nome = ['Pedro', 'Ana', 'José']\n",
    "sobrenome = ['Silva', 'Santos', 'Oliveira']\n",
    "\n",
    "juntos = zip(nome, sobrenome)\n",
    "\n",
    "print(list(juntos))\n",
    "\n",
    "juntos = zip(nome, sobrenome)\n",
    "\n",
    "print(tuple(juntos))\n",
    "\n",
    "juntos = zip(nome, sobrenome)\n",
    "\n",
    "print(dict(juntos))"
   ]
  },
  {
   "cell_type": "code",
   "execution_count": null,
   "metadata": {},
   "outputs": [],
   "source": [
    "def dobro(x):\n",
    "    return x * 2\n",
    "\n",
    "def quadrado(x):\n",
    "    return x ** 2\n",
    "\n",
    "def cubo(x):\n",
    "    return x ** 3\n",
    "\n",
    "# Retorna alternadamente o dobro, quadrado e cubo de um número\n",
    "funcs = [dobro, quadrado, cubo] * 3\n",
    "for func, numero in zip(funcs, range(1, 11)):\n",
    "    print(f'O {func.__name__} de {numero} é {func(numero)}')"
   ]
  },
  {
   "cell_type": "markdown",
   "metadata": {},
   "source": [
    "## Função de alta ordem\n",
    "\n"
   ]
  },
  {
   "cell_type": "code",
   "execution_count": null,
   "metadata": {},
   "outputs": [],
   "source": [
    "# Uma função que retorna outra função\n",
    "def dobro(x):\n",
    "    return x * 2\n",
    "\n",
    "def quadrado(x):\n",
    "    return x ** 2\n",
    "\n",
    "def cubo(x):\n",
    "    return x ** 3\n",
    "\n",
    "def processar(titulo, lista, funcao):\n",
    "    print(f'Processando: {titulo}')\n",
    "    for i in lista:\n",
    "        print(i, '=>', funcao(i))\n",
    "\n",
    "processar('Dobros de 1 a 10', range(1, 11), dobro)\n",
    "processar('Quadrados de 1 a 10', range(1, 11), quadrado)\n",
    "processar('Cubos de 1 a 10', range(1, 11), cubo)\n",
    "\n"
   ]
  },
  {
   "cell_type": "markdown",
   "metadata": {},
   "source": [
    "## Closure\n"
   ]
  },
  {
   "cell_type": "code",
   "execution_count": null,
   "metadata": {},
   "outputs": [],
   "source": [
    "# Função definida dentro de outra função \n",
    "def multiplicar(x):\n",
    "    def calcular(y):\n",
    "        return x * y\n",
    "    return calcular\n",
    "\n",
    "dobro = multiplicar(2)\n",
    "triplo = multiplicar(3)\n",
    "print(f'O dobro de 3 é {dobro(3)}')\n",
    "print(f'O triplo de 3 é {triplo(3)}')"
   ]
  },
  {
   "cell_type": "markdown",
   "metadata": {},
   "source": [
    "## Função Lambda"
   ]
  },
  {
   "cell_type": "code",
   "execution_count": null,
   "metadata": {},
   "outputs": [],
   "source": [
    "compras = [\n",
    "    {'quantidade': 2, 'preco': 10},\n",
    "    {'quantidade': 3, 'preco': 20},\n",
    "    {'quantidade': 4, 'preco': 30}\n",
    "]\n",
    "\n",
    "totais = tuple(\n",
    "    map(\n",
    "        lambda compra: compra['quantidade'] * compra['preco'],\n",
    "        compras\n",
    "    )\n",
    ")\n",
    "\n",
    "print('Preços totais:', totais)\n",
    "print('Total geral:', sum(totais))\n",
    "\n",
    "compras.sort(key=lambda compra: compra['preco'], reverse=True)\n",
    "print('Lista de compras ordenada:', compras)\n"
   ]
  },
  {
   "cell_type": "markdown",
   "metadata": {},
   "source": [
    "## Map\n"
   ]
  },
  {
   "cell_type": "code",
   "execution_count": null,
   "metadata": {},
   "outputs": [],
   "source": [
    "lista_1 = [1, 2, 3]\n",
    "dobro = map(lambda x: x * 2, lista_1)\n",
    "print(list(dobro))\n",
    "\n",
    "lista_2 = [\n",
    "    {'nome': 'João', 'idade': 31},\n",
    "    {'nome': 'Maria', 'idade': 37},\n",
    "    {'nome': 'José', 'idade': 26}\n",
    "]\n",
    "so_nomes = map(lambda p: p['nome'], lista_2)\n",
    "print(list(so_nomes))\n",
    "\n",
    "so_idades = map(lambda p: p['idade'], lista_2)\n",
    "print(list(so_idades))\n",
    "\n",
    "so_idades = map(lambda p: p['idade'], lista_2)\n",
    "print(sum(so_idades))\n",
    "\n",
    "nome_idade = map(lambda p: f'{p[\"nome\"]} tem {p[\"idade\"]} anos.', lista_2)\n",
    "print(list(nome_idade))\n"
   ]
  },
  {
   "cell_type": "markdown",
   "metadata": {},
   "source": [
    "## Filter"
   ]
  },
  {
   "cell_type": "code",
   "execution_count": null,
   "metadata": {},
   "outputs": [],
   "source": [
    "pessoas = [\n",
    "    {'nome': 'João', 'idade': 31},\n",
    "    {'nome': 'Maria', 'idade': 17},\n",
    "    {'nome': 'José', 'idade': 16},\n",
    "    {'nome': 'Paulo', 'idade': 16},\n",
    "    {'nome': 'Ana', 'idade': 35},\n",
    "    {'nome': 'Julia', 'idade': 28},\n",
    "]\n",
    "\n",
    "menores = filter(lambda p: p['idade'] < 18, pessoas)\n",
    "print(list(menores))\n",
    "\n",
    "nomes_grandes = filter(lambda p: len(p['nome']) >= 5, pessoas)\n",
    "print(list(nomes_grandes))\n",
    "\n"
   ]
  },
  {
   "cell_type": "markdown",
   "metadata": {},
   "source": [
    "## Reduce"
   ]
  },
  {
   "cell_type": "code",
   "execution_count": null,
   "metadata": {},
   "outputs": [],
   "source": [
    "from functools import reduce\n",
    "\n",
    "pessoas = [\n",
    "    {'nome': 'João', 'idade': 31},\n",
    "    {'nome': 'Maria', 'idade': 17},\n",
    "    {'nome': 'José', 'idade': 16},\n",
    "    {'nome': 'Paulo', 'idade': 16},\n",
    "    {'nome': 'Ana', 'idade': 35},\n",
    "    {'nome': 'Julia', 'idade': 28},\n",
    "]\n",
    "\n",
    "so_idades = map(lambda p: p['idade'], pessoas)\n",
    "menores = filter(lambda idade: idade < 18, so_idades)\n",
    "soma_idades = reduce(lambda idades, idade: idades + idade, menores, 0)\n",
    "\n",
    "print(soma_idades)\n",
    "\n",
    "\n"
   ]
  },
  {
   "cell_type": "code",
   "execution_count": null,
   "metadata": {},
   "outputs": [],
   "source": [
    "# Função recursiva para calcular o fatorial de um número\n",
    "def fatorial(n):\n",
    "    return (n * fatorial(n - 1)) if (n > 1) else 1\n",
    "\n",
    "print(f'10! = {fatorial(10)}')\n",
    "\n"
   ]
  },
  {
   "cell_type": "code",
   "execution_count": null,
   "metadata": {},
   "outputs": [],
   "source": [
    "# Desafio imutabilidade\n",
    "from locale import setlocale, LC_ALL\n",
    "from calendar import mdays, month_name\n",
    "from functools import reduce\n",
    "\n",
    "setlocale(LC_ALL, 'pt_BR.utf-8')\n",
    "\n",
    "# Listar todos os meses do ano com 31 dias\n",
    "\n",
    "meses_31 = filter(lambda mes: mdays[mes] == 31, range(1, 13))\n",
    "meses_nomes = map(lambda mes: month_name[mes], meses_31)\n",
    "meses_nomes = reduce(lambda todos, nome_mes: f'{todos}\\n- {nome_mes}', meses_nomes, 'Meses com 31 dias:')\n",
    "print(meses_nomes)\n"
   ]
  },
  {
   "cell_type": "code",
   "execution_count": null,
   "metadata": {},
   "outputs": [],
   "source": [
    "# Abordagem Imperativa\n",
    "\n",
    "from locale import setlocale, LC_ALL\n",
    "from calendar import mdays, month_name\n",
    "\n",
    "setlocale(LC_ALL, 'pt_BR.utf-8')\n",
    "\n",
    "print('Meses com 31 dias:')\n",
    "for mes in range(1, 13):\n",
    "    if mdays[mes] == 31:\n",
    "        print(f'- {month_name[mes]}')\n",
    "\n"
   ]
  },
  {
   "cell_type": "markdown",
   "metadata": {},
   "source": [
    "## Funções Imutabilidade"
   ]
  },
  {
   "cell_type": "code",
   "execution_count": null,
   "metadata": {},
   "outputs": [],
   "source": [
    "from functools import reduce\n",
    "from operator import add\n",
    "\n",
    "valores = [30, 10, 25, 70, 100, 94]\n",
    "\n",
    "print(sorted(valores))\n",
    "print(valores)\n",
    "print(min(valores))\n",
    "print(max(valores))\n",
    "print(sum(valores))\n",
    "print(reduce(add, valores)) # igual sum\n",
    "print(reduce(lambda a, b: a + b, valores)) # igual sum\n",
    "print(reversed(valores))\n",
    "print(list(reversed(valores)))\n",
    "\n"
   ]
  },
  {
   "cell_type": "markdown",
   "metadata": {},
   "source": [
    "## Generators"
   ]
  },
  {
   "cell_type": "code",
   "execution_count": null,
   "metadata": {},
   "outputs": [],
   "source": [
    "def cores_arco_iris():\n",
    "    yield 'vermelho'\n",
    "    yield 'laranja'\n",
    "    yield 'amarelo'\n",
    "    yield 'verde'\n",
    "    yield 'azul'\n",
    "    yield 'índigo'\n",
    "    yield 'violeta'\n",
    "\n",
    "# Expressão 1\n",
    "generator = cores_arco_iris()\n",
    "print(type(generator))\n",
    "while True:\n",
    "    print(next(generator))\n",
    "\n",
    "# Expressão 2\n",
    "generator = cores_arco_iris()\n",
    "for cor in generator:\n",
    "    print(cor)\n",
    "    print(\"!Fim!\")\n",
    "\n"
   ]
  },
  {
   "cell_type": "markdown",
   "metadata": {},
   "source": [
    "## Implementando Map"
   ]
  },
  {
   "cell_type": "code",
   "execution_count": null,
   "metadata": {},
   "outputs": [],
   "source": [
    "def mapear(funcao, lista):\n",
    "    for elemento in lista:\n",
    "        yield funcao(elemento)\n",
    "\n",
    "def filtrar(funcao, lista):\n",
    "    for elemento in lista:\n",
    "        if funcao(elemento):\n",
    "            yield elemento\n",
    "\n",
    "def reduzir(funcao, lista, inicial):\n",
    "    acumulador = inicial\n",
    "    for elemento in lista:\n",
    "        acumulador = funcao(acumulador, elemento)\n",
    "    return acumulador\n",
    "\n",
    "def somar(a, b):\n",
    "    return a + b\n",
    "\n",
    "def multiplicar(a, b):\n",
    "    return a * b\n",
    "\n",
    "lista = [1, 2, 3, 4, 5]\n",
    "\n",
    "print(reduzir(somar, lista, 0))\n",
    "print(reduzir(multiplicar, lista, 1))\n",
    "\n",
    "print(list(mapear(lambda x: x ** 2, lista)))\n",
    "print(list(filtrar(lambda x: x % 2 == 0, lista)))\n"
   ]
  },
  {
   "cell_type": "code",
   "execution_count": null,
   "metadata": {},
   "outputs": [],
   "source": [
    "# Desafio MDC\n",
    "\n",
    "def mdc(numeros):\n",
    "    def calc(divisor):\n",
    "        return divisor if sum(map(lambda x: x % divisor, numeros)) == 0 else calc(divisor - 1)\n",
    "    return calc(min(numeros))\n",
    "\n",
    "print(mdc([21, 7]))\n",
    "print(mdc([125, 40]))\n",
    "print(mdc([9, 564, 66, 3]))\n",
    "print(mdc([55, 22]))\n",
    "print(mdc([15, 150]))\n",
    "\n",
    "\n"
   ]
  }
 ],
 "metadata": {
  "kernelspec": {
   "display_name": "Python 3",
   "language": "python",
   "name": "python3"
  },
  "language_info": {
   "codemirror_mode": {
    "name": "ipython",
    "version": 3
   },
   "file_extension": ".py",
   "mimetype": "text/x-python",
   "name": "python",
   "nbconvert_exporter": "python",
   "pygments_lexer": "ipython3",
   "version": "3.11.4"
  },
  "orig_nbformat": 4
 },
 "nbformat": 4,
 "nbformat_minor": 2
}
