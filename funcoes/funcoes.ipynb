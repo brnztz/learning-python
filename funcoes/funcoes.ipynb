{
 "cells": [
  {
   "cell_type": "markdown",
   "metadata": {},
   "source": [
    "## Funções"
   ]
  },
  {
   "cell_type": "code",
   "execution_count": null,
   "metadata": {},
   "outputs": [],
   "source": [
    "def tag_bloco(texto, classe='success'):\n",
    "    return f'<div class=\"{classe}\">{texto}</div>'\n",
    "\n",
    "if __name__ == '__main__':\n",
    "    assert tag_bloco('Incluído com sucesso!') == \\\n",
    "        '<div class=\"success\">Incluído com sucesso!</div>'\n",
    "    assert tag_bloco('Impossível excluir!', 'error') == \\\n",
    "        '<div class=\"error\">Impossível excluir!</div>'\n",
    "    print(tag_bloco('bloco'))"
   ]
  },
  {
   "cell_type": "code",
   "execution_count": null,
   "metadata": {},
   "outputs": [],
   "source": [
    "def tag_bloco(texto, classe='success', inline=False):\n",
    "    tag = 'span' if inline else 'div'\n",
    "    return f'<{tag} class=\"{classe}\">{texto}</{tag}>'\n",
    "\n",
    "\n",
    "if __name__ == '__main__':\n",
    "    print(tag_bloco('bloco'))\n",
    "    print(tag_bloco('inline e classe', classe='info', inline=True))  # recomendado\n",
    "    print(tag_bloco('inline', inline=True))\n",
    "    print(tag_bloco('falhou', classe='error'))"
   ]
  },
  {
   "cell_type": "code",
   "execution_count": null,
   "metadata": {},
   "outputs": [],
   "source": [
    "def tag_bloco(conteudo, classe='success', inline=False):\n",
    "    tag = 'span' if inline else 'div'\n",
    "    return f'<{tag} class=\"{classe}\">{conteudo}</{tag}>'\n",
    "\n",
    "\n",
    "def tag_lista(*itens):\n",
    "    lista = ''.join(f'<li>{item}</li>' for item in itens)\n",
    "    return f'<ul>{lista}</ul>'\n",
    "\n",
    "\n",
    "if __name__ == '__main__':\n",
    "    print(tag_bloco('bloco'))\n",
    "    print(tag_bloco(conteudo='inline e classe', classe='info', inline=True))  # recomendado\n",
    "    print(tag_bloco('inline', inline=True))\n",
    "    print(tag_bloco('falhou', classe='error'))\n",
    "    print(tag_bloco(tag_lista('Item 1', 'Item 2'), classe='info'))"
   ]
  },
  {
   "cell_type": "code",
   "execution_count": null,
   "metadata": {},
   "outputs": [],
   "source": [
    "def tag_bloco(conteudo, *args, classe='success', inline=False):\n",
    "    tag = 'span' if inline else 'div'\n",
    "    html = conteudo if not callable(conteudo) else conteudo(*args)\n",
    "    return f'<{tag} class=\"{classe}\">{html}</{tag}>'\n",
    "\n",
    "\n",
    "def tag_lista(*itens):\n",
    "    lista = ''.join(f'<li>{item}</li>' for item in itens)\n",
    "    return f'<ul>{lista}</ul>'\n",
    "\n",
    "\n",
    "if __name__ == '__main__':\n",
    "    print(tag_bloco('bloco'))\n",
    "    print(tag_bloco(conteudo='inline e classe', classe='info', inline=True))  # recomendado\n",
    "    print(tag_bloco('inline', inline=True))\n",
    "    print(tag_bloco('falhou', classe='error'))\n",
    "    print(tag_bloco(tag_lista('Item 1', 'Item 2'), classe='info'))\n",
    "    print(tag_bloco(tag_lista, 'Sábado', 'Domingo', classe='info', inline=True))"
   ]
  },
  {
   "cell_type": "markdown",
   "metadata": {},
   "source": [
    "## Packing e Unpacking"
   ]
  },
  {
   "cell_type": "code",
   "execution_count": null,
   "metadata": {},
   "outputs": [],
   "source": [
    "def soma_n(*numeros):\n",
    "    soma = 0\n",
    "    for n in numeros:\n",
    "        soma += n\n",
    "    return soma\n",
    "\n",
    "#packing\n",
    "print(soma_n(1, 2, 3, 4, 5, 6, 7, 8, 9, 10))\n",
    "\n",
    "#unpacking\n",
    "tupla_numeros = (1, 2, 3, 4)\n",
    "print(soma_n(*tupla_numeros))\n",
    "\n",
    "lista_numeros = [1, 2, 3, 4]\n",
    "print(soma_n(*lista_numeros))"
   ]
  },
  {
   "cell_type": "code",
   "execution_count": null,
   "metadata": {},
   "outputs": [],
   "source": [
    "# Packing nomeado\n",
    "def resultado_f1(**podium):\n",
    "    for posicao, piloto in podium.items():\n",
    "        print(f'{posicao} -> {piloto}')\n",
    "\n",
    "\n",
    "resultado_f1(primeiro='L. Hamilton',\n",
    "             segundo='M. Verstappen',\n",
    "             terceiro='S. Vettel')\n",
    "\n",
    "# unpacking nomeado\n",
    "def resultado_f2(primeiro, segundo, terceiro):\n",
    "    print(f'1) {primeiro}')\n",
    "    print(f'2) {segundo}')\n",
    "    print(f'3) {terceiro}')\n",
    "\n",
    "\n",
    "podium = {'segundo': 'M. Verstappen',\n",
    "          'primeiro': 'L. Hamilton',\n",
    "          'terceiro': 'S. Vettel'}\n",
    "resultado_f2(**podium)"
   ]
  },
  {
   "cell_type": "markdown",
   "metadata": {},
   "source": [
    "## Callable"
   ]
  },
  {
   "cell_type": "code",
   "execution_count": null,
   "metadata": {},
   "outputs": [],
   "source": [
    "def executar(funcao):\n",
    "    if callable(funcao):\n",
    "        funcao()\n",
    "\n",
    "\n",
    "def bom_dia():\n",
    "    print('Bom dia')\n",
    "\n",
    "\n",
    "def boa_tarde():\n",
    "    print('Boa tarde')\n",
    "\n",
    "\n",
    "if __name__ == '__main__':\n",
    "    executar(bom_dia)\n",
    "    executar(boa_tarde)\n",
    "    executar(1)"
   ]
  },
  {
   "cell_type": "code",
   "execution_count": null,
   "metadata": {},
   "outputs": [],
   "source": [
    "# Callable com packing e unpacking\n",
    "\n",
    "def calc_preco_final(preco_bruto, calc_imposto, *params):\n",
    "    return preco_bruto + preco_bruto * calc_imposto(*params)\n",
    "\n",
    "def imposto_x(importado):\n",
    "    return 0.22 if importado else 0.13\n",
    "\n",
    "def imposto_y(explosivo, fator_multi=1):\n",
    "    return 0.11 * fator_multi if explosivo else 0\n",
    "\n",
    "preco_bruto = 134.98\n",
    "preco_final = calc_preco_final(preco_bruto, imposto_x, True)\n",
    "preco_final = calc_preco_final(preco_final, imposto_y, True, 1.5)\n",
    "print(f'Preço final R$ {preco_final:.2f}')"
   ]
  },
  {
   "cell_type": "code",
   "execution_count": 18,
   "metadata": {},
   "outputs": [
    {
     "name": "stdout",
     "output_type": "stream",
     "text": [
      "Preço final R$ 191.85\n"
     ]
    }
   ],
   "source": [
    "# Callable com packing e unpacking nomeados\n",
    "\n",
    "def calc_preco_final(preco_bruto, calc_imposto, **params):\n",
    "    return preco_bruto + preco_bruto * calc_imposto(**params)\n",
    "\n",
    "\n",
    "def imposto_x(importado):\n",
    "    return 0.22 if importado else 0.13\n",
    "\n",
    "\n",
    "def imposto_y(explosivo, fator_multi=1):\n",
    "    return 0.11 * fator_multi if explosivo else 0\n",
    "\n",
    "\n",
    "preco_bruto = 134.98\n",
    "preco_final = calc_preco_final(preco_bruto, imposto_x, importado=True)\n",
    "preco_final = calc_preco_final(\n",
    "    preco_final, imposto_y, explosivo=True, fator_multi=1.5)\n",
    "print(f'Preço final R$ {preco_final:.2f}')"
   ]
  },
  {
   "cell_type": "code",
   "execution_count": 26,
   "metadata": {},
   "outputs": [
    {
     "name": "stdout",
     "output_type": "stream",
     "text": [
      "9\n",
      "27\n",
      "16\n",
      "5² = 25\n"
     ]
    }
   ],
   "source": [
    "class Potencia:\n",
    "    # Calcula uma potência específica\n",
    "    def __init__(self, expoente):\n",
    "        self.expoente = expoente\n",
    "\n",
    "    # Calcula a potência\n",
    "    def __call__(self, base):\n",
    "        return base ** self.expoente\n",
    "    \n",
    "# Instancia a classe\n",
    "quadrado = Potencia(2)\n",
    "cubo = Potencia(3)\n",
    "\n",
    "# Testa a classe\n",
    "print(quadrado(3))\n",
    "print(cubo(3))\n",
    "print(Potencia(4)(2))\n",
    "print(f'5² = {quadrado(5)}')"
   ]
  },
  {
   "cell_type": "markdown",
   "metadata": {},
   "source": [
    "## Acessando parametros"
   ]
  },
  {
   "cell_type": "code",
   "execution_count": 22,
   "metadata": {},
   "outputs": [
    {
     "name": "stdout",
     "output_type": "stream",
     "text": [
      "args: ('a', 'b', 'c')\n",
      "kwargs: {}\n",
      "args: (1, 2, 3)\n",
      "kwargs: {'legal': True, 'valor': 12.99}\n",
      "args: ('Ana', False, [1, 2, 3])\n",
      "kwargs: {'tamanho': 'M', 'fragil': False}\n",
      "args: ()\n",
      "kwargs: {'primeiro': 'João', 'segundo': 'Maria'}\n",
      "args: ('Maria',)\n",
      "kwargs: {'primeiro': 'João'}\n"
     ]
    }
   ],
   "source": [
    "def todos_params(*args, **kwargs):\n",
    "    print(f'args: {args}')\n",
    "    print(f'kwargs: {kwargs}')\n",
    "\n",
    "todos_params('a', 'b', 'c')\n",
    "todos_params(1, 2, 3, legal=True, valor=12.99)\n",
    "todos_params('Ana', False, [1, 2, 3], tamanho='M', fragil=False)\n",
    "todos_params(primeiro='João', segundo='Maria')\n",
    "todos_params('Maria', primeiro='João')"
   ]
  }
 ],
 "metadata": {
  "kernelspec": {
   "display_name": "Python 3",
   "language": "python",
   "name": "python3"
  },
  "language_info": {
   "codemirror_mode": {
    "name": "ipython",
    "version": 3
   },
   "file_extension": ".py",
   "mimetype": "text/x-python",
   "name": "python",
   "nbconvert_exporter": "python",
   "pygments_lexer": "ipython3",
   "version": "3.11.4"
  },
  "orig_nbformat": 4
 },
 "nbformat": 4,
 "nbformat_minor": 2
}
