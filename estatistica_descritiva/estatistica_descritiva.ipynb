{
 "cells": [
  {
   "cell_type": "markdown",
   "metadata": {},
   "source": [
    "## Estatistica Descritiva"
   ]
  },
  {
   "cell_type": "markdown",
   "metadata": {},
   "source": [
    "### Bibliotecas\n",
    "\n",
    "- [Numpy](https://numpy.org/)\n",
    "    - serve para trabalhar com vetores e matrizes\n",
    "- [RPy](https://rpy2.github.io/)\n",
    "    - serve para integrar o python com o R\n",
    "- [Scipy](https://www.scipy.org/)\n",
    "    - serve para trabalhar com estatística\n",
    "- [Pychem](https://pychem.sourceforge.io/)\n",
    "    - serve para trabalhar com química\n",
    "- [Pandas](https://pandas.pydata.org/)\n",
    "    - serve para trabalhar com dataframes\n",
    "- [Matplotlib](https://matplotlib.org/)\n",
    "    - Serve para plotar gráficos\n",
    "- [Seaborn](https://seaborn.pydata.org/)\n",
    "    - Serve para plotar gráficos\n",
    "\n",
    "### Amostras\n",
    "\n",
    "- Random\n",
    "- Numpy"
   ]
  },
  {
   "cell_type": "markdown",
   "metadata": {},
   "source": [
    "### Gráficos"
   ]
  },
  {
   "cell_type": "code",
   "execution_count": null,
   "metadata": {},
   "outputs": [],
   "source": [
    "# Gráficos de barras\n",
    "import matplotlib.pyplot as plt\n",
    "\n",
    "y = [1, 2, 3, 4, 5, 6, 7, 8, 9]\n",
    "\n",
    "x = ['N1', 'N2', 'N3', 'N4', 'N5', 'N6', 'N7', 'N8', 'N9']\n",
    "x2 = ['Variável Um', 'Variável Dois', 'Variável Três', 'Variável Quatro', 'Variável Cinco', 'Variável Seis', 'Variável Sete', 'Variável Oito', 'Variável Nove']\n",
    "\n",
    "plt.barh(x2, y, color='g')\n",
    "#plt.bar(x, y, color='g')\n",
    "plt.xlabel('Variáveis', fontsize=14)\n",
    "plt.ylabel('Valores', fontsize=14)\n",
    "plt.title('Gráfico de Barras', fontsize=18)\n"
   ]
  },
  {
   "cell_type": "code",
   "execution_count": null,
   "metadata": {},
   "outputs": [],
   "source": [
    "# Gráficos de barras\n",
    "import seaborn as sns\n",
    "\n",
    "df = sns.load_dataset(\"penguins\")\n",
    "\n",
    "sns.barplot(\n",
    "    data=df, x=\"body_mass_g\", y=\"island\",\n",
    "    errorbar=(\"pi\", 50), capsize=.4, errcolor=\".5\",\n",
    "    linewidth=3, edgecolor=\".5\", facecolor=(0, 0, 0, 0),\n",
    ")"
   ]
  },
  {
   "cell_type": "code",
   "execution_count": null,
   "metadata": {},
   "outputs": [],
   "source": [
    "## Gráficos de setores/pizza\n",
    "import matplotlib.pyplot as plt\n",
    "import seaborn as sns\n",
    "\n",
    "y = [1, 2, 3, 4, 5, 6, 7, 8, 9]\n",
    "\n",
    "x = ['N1', 'N2', 'N3', 'N4', 'N5', 'N6', 'N7', 'N8', 'N9']\n",
    "x2 = ['Variável Um', 'Variável Dois', 'Variável Três', 'Variável Quatro', 'Variável Cinco', 'Variável Seis', 'Variável Sete', 'Variável Oito', 'Variável Nove']\n",
    "\n",
    "plt.pie(y, labels=x, autopct='%1.1f%%')\n",
    "plt.show()\n",
    "\n"
   ]
  },
  {
   "cell_type": "code",
   "execution_count": null,
   "metadata": {},
   "outputs": [],
   "source": [
    "# Gráficos de Linhas\n",
    "import matplotlib.pyplot as plt\n",
    "import seaborn as sns\n",
    "\n",
    "y = [6, 8, 3, 1, 9]\n",
    "\n",
    "x1 = [1, 2, 3, 4, 5]\n",
    "\n",
    "x = ['seg', 'ter', 'qua', 'qui', 'sex']\n",
    "\n",
    "plt.plot(x1, y, marker='o', color='red', linestyle='--')\n",
    "plt.xlabel('Dias da Semana', size=20)\n",
    "plt.ylabel('Vendas', size=20)\n",
    "plt.title('Vendas por dia da semana', size=20)\n",
    "plt.show()\n",
    "\n"
   ]
  },
  {
   "cell_type": "code",
   "execution_count": null,
   "metadata": {},
   "outputs": [],
   "source": [
    "# Gráficos de Linhas\n",
    "import matplotlib.pyplot as plt\n",
    "import seaborn as sns\n",
    "\n",
    "y = [6, 8, 3, 1, 9]\n",
    "\n",
    "x1 = [1, 2, 3, 4, 5]\n",
    "\n",
    "x = ['seg', 'ter', 'qua', 'qui', 'sex']\n",
    "\n",
    "plt.plot(x, y, marker='o', color='red', linestyle='--')\n",
    "plt.xlabel('Dias da Semana', size=20)\n",
    "plt.ylabel('Vendas', size=20)\n",
    "plt.title('Vendas por dia da semana', size=20)\n",
    "plt.show()"
   ]
  },
  {
   "cell_type": "code",
   "execution_count": null,
   "metadata": {},
   "outputs": [],
   "source": [
    "# Histogramas\n"
   ]
  }
 ],
 "metadata": {
  "kernelspec": {
   "display_name": "Python 3",
   "language": "python",
   "name": "python3"
  },
  "language_info": {
   "codemirror_mode": {
    "name": "ipython",
    "version": 3
   },
   "file_extension": ".py",
   "mimetype": "text/x-python",
   "name": "python",
   "nbconvert_exporter": "python",
   "pygments_lexer": "ipython3",
   "version": "3.11.3"
  },
  "orig_nbformat": 4
 },
 "nbformat": 4,
 "nbformat_minor": 2
}
