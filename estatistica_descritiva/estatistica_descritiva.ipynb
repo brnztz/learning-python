{
 "cells": [
  {
   "cell_type": "markdown",
   "metadata": {},
   "source": [
    "## Estatistica Descritiva"
   ]
  },
  {
   "cell_type": "markdown",
   "metadata": {},
   "source": [
    "### Bibliotecas\n",
    "\n",
    "- [Numpy](https://numpy.org/)\n",
    "    - serve para trabalhar com vetores e matrizes\n",
    "- [RPy](https://rpy2.github.io/)\n",
    "    - serve para integrar o python com o R\n",
    "- [Scipy](https://www.scipy.org/)\n",
    "    - serve para trabalhar com estatística\n",
    "- [Pychem](https://pychem.sourceforge.io/)\n",
    "    - serve para trabalhar com química\n",
    "- [Pandas](https://pandas.pydata.org/)\n",
    "    - serve para trabalhar com dataframes\n",
    "- [Matplotlib](https://matplotlib.org/)\n",
    "    - Serve para plotar gráficos\n",
    "- [Seaborn](https://seaborn.pydata.org/)\n",
    "    - Serve para plotar gráficos\n",
    "\n",
    "### Amostras\n",
    "\n",
    "- Random\n",
    "- Numpy"
   ]
  },
  {
   "cell_type": "markdown",
   "metadata": {},
   "source": [
    "### Gráficos"
   ]
  },
  {
   "cell_type": "code",
   "execution_count": null,
   "metadata": {},
   "outputs": [],
   "source": [
    "# Gráficos de barras\n",
    "import matplotlib.pyplot as plt\n",
    "\n",
    "y = [1, 2, 3, 4, 5, 6, 7, 8, 9]\n",
    "\n",
    "x = ['N1', 'N2', 'N3', 'N4', 'N5', 'N6', 'N7', 'N8', 'N9']\n",
    "x2 = ['Variável Um', 'Variável Dois', 'Variável Três', 'Variável Quatro', 'Variável Cinco', 'Variável Seis', 'Variável Sete', 'Variável Oito', 'Variável Nove']\n",
    "\n",
    "plt.barh(x2, y, color='g')\n",
    "#plt.bar(x, y, color='g')\n",
    "plt.xlabel('Variáveis', fontsize=14)\n",
    "plt.ylabel('Valores', fontsize=14)\n",
    "plt.title('Gráfico de Barras', fontsize=18)\n"
   ]
  },
  {
   "cell_type": "code",
   "execution_count": null,
   "metadata": {},
   "outputs": [],
   "source": [
    "# Gráficos de barras\n",
    "import seaborn as sns\n",
    "\n",
    "df = sns.load_dataset(\"penguins\")\n",
    "\n",
    "sns.barplot(\n",
    "    data=df, x=\"body_mass_g\", y=\"island\",\n",
    "    errorbar=(\"pi\", 50), capsize=.4, errcolor=\".5\",\n",
    "    linewidth=3, edgecolor=\".5\", facecolor=(0, 0, 0, 0),\n",
    ")"
   ]
  },
  {
   "cell_type": "code",
   "execution_count": null,
   "metadata": {},
   "outputs": [],
   "source": [
    "## Gráficos de setores/pizza\n",
    "import matplotlib.pyplot as plt\n",
    "import seaborn as sns\n",
    "\n",
    "y = [1, 2, 3, 4, 5, 6, 7, 8, 9]\n",
    "\n",
    "x = ['N1', 'N2', 'N3', 'N4', 'N5', 'N6', 'N7', 'N8', 'N9']\n",
    "x2 = ['Variável Um', 'Variável Dois', 'Variável Três', 'Variável Quatro', 'Variável Cinco', 'Variável Seis', 'Variável Sete', 'Variável Oito', 'Variável Nove']\n",
    "\n",
    "plt.pie(y, labels=x, autopct='%1.1f%%')\n",
    "plt.show()\n",
    "\n"
   ]
  },
  {
   "cell_type": "code",
   "execution_count": null,
   "metadata": {},
   "outputs": [],
   "source": [
    "# Gráficos de Linhas\n",
    "import matplotlib.pyplot as plt\n",
    "import seaborn as sns\n",
    "\n",
    "y = [6, 8, 3, 1, 9]\n",
    "\n",
    "x1 = [1, 2, 3, 4, 5]\n",
    "\n",
    "x = ['seg', 'ter', 'qua', 'qui', 'sex']\n",
    "\n",
    "plt.plot(x1, y, marker='o', color='red', linestyle='--')\n",
    "plt.xlabel('Dias da Semana', size=20)\n",
    "plt.ylabel('Vendas', size=20)\n",
    "plt.title('Vendas por dia da semana', size=20)\n",
    "plt.show()\n",
    "\n"
   ]
  },
  {
   "cell_type": "code",
   "execution_count": null,
   "metadata": {},
   "outputs": [],
   "source": [
    "# Gráficos de Linhas\n",
    "import matplotlib.pyplot as plt\n",
    "import seaborn as sns\n",
    "\n",
    "y = [6, 8, 3, 1, 9]\n",
    "\n",
    "x1 = [1, 2, 3, 4, 5]\n",
    "\n",
    "x = ['seg', 'ter', 'qua', 'qui', 'sex']\n",
    "\n",
    "plt.plot(x, y, marker='o', color='red', linestyle='--')\n",
    "plt.xlabel('Dias da Semana', size=20)\n",
    "plt.ylabel('Vendas', size=20)\n",
    "plt.title('Vendas por dia da semana', size=20)\n",
    "plt.show()"
   ]
  },
  {
   "cell_type": "code",
   "execution_count": null,
   "metadata": {},
   "outputs": [],
   "source": [
    "# Histogramas\n",
    "import matplotlib.pyplot as plt\n",
    "import numpy as np\n",
    "\n",
    "x = np.random.randn(1000)\n",
    "\n",
    "plt.hist(x, density=True, bins=10)\n",
    "plt.ylabel('Probabilidade')\n",
    "plt.xlabel('Valores')\n",
    "plt.title('Histograma')\n",
    "plt.show()\n"
   ]
  },
  {
   "cell_type": "markdown",
   "metadata": {},
   "source": [
    "### Medidas de tendência central (MTC)\n",
    "- Indicam um ponto central em torno do qual os dados tendem a se agrupar\n",
    "- Média aritmética: soma de todos os valores dividido pelo número de valores\n",
    "- Moda: valor que ocorre com maior frequência\n",
    "- Mediana: valor que ocupa a posição central quando os dados estão ordenados \n",
    "    - Se o número de dados for par, a mediana é a média aritmética dos dois valores centrais\n",
    "- Disperção:\n",
    "    - Média = Mediana = Moda: distribuição simétrica\n",
    "    - Média > Mediana > Moda: distribuição assimétrica positiva/à direita\n",
    "    - Média < Mediana < Moda: distribuição assimétrica negativa/à esquerda\n",
    "- Medidas Separatrizes\n",
    "    - Quartis: dividem os dados em quatro partes iguais\n",
    "        - Q1 = 25% dos dados\n",
    "        - Q2 = 50% dos dados (mediana)\n",
    "        - Q3 = 75% dos dados\n",
    "    - Decis: dividem os dados em dez partes iguais\n",
    "    - Percentis: dividem os dados em cem partes iguais"
   ]
  },
  {
   "cell_type": "code",
   "execution_count": 65,
   "metadata": {},
   "outputs": [
    {
     "name": "stdout",
     "output_type": "stream",
     "text": [
      "5.843333333333334\n",
      "5.8\n",
      "0    5.0\n",
      "Name: sepal_length, dtype: float64\n"
     ]
    },
    {
     "name": "stderr",
     "output_type": "stream",
     "text": [
      "c:\\Users\\Bruno\\anaconda3\\Lib\\site-packages\\numpy\\core\\fromnumeric.py:3502: FutureWarning: In a future version, DataFrame.mean(axis=None) will return a scalar mean over the entire DataFrame. To retain the old behavior, use 'frame.mean(axis=0)' or just 'frame.mean()'\n",
      "  return mean(axis=axis, dtype=dtype, out=out, **kwargs)\n",
      "c:\\Users\\Bruno\\anaconda3\\Lib\\site-packages\\numpy\\core\\fromnumeric.py:3502: FutureWarning: The default value of numeric_only in DataFrame.mean is deprecated. In a future version, it will default to False. In addition, specifying 'numeric_only=None' is deprecated. Select only valid columns or specify the value of numeric_only to silence this warning.\n",
      "  return mean(axis=axis, dtype=dtype, out=out, **kwargs)\n"
     ]
    },
    {
     "data": {
      "text/plain": [
       "[<matplotlib.lines.Line2D at 0x28ef25d6350>]"
      ]
     },
     "execution_count": 65,
     "metadata": {},
     "output_type": "execute_result"
    },
    {
     "data": {
      "image/png": "[encoded data removed]",
      "text/plain": [
       "<Figure size 640x480 with 1 Axes>"
      ]
     },
     "metadata": {},
     "output_type": "display_data"
    }
   ],
   "source": [
    "import numpy as np\n",
    "import pandas as pd\n",
    "import matplotlib.pyplot as plt\n",
    "from bokeh.sampledata.iris import flowers as dados\n",
    "\n",
    "dados.head(3)\n",
    "\n",
    "# Cálculo da média\n",
    "# mean() - média\n",
    "med_sepal = np.mean(dados['sepal_length'])\n",
    "print(med_sepal)\n",
    "\n",
    "np.mean(dados)\n",
    "\n",
    "# Cálculo da mediana\n",
    "# median() - mediana\n",
    "\n",
    "med_sepal = np.median(dados['sepal_length'])\n",
    "print(med_sepal)\n",
    "\n",
    "# Cálculo da moda\n",
    "# mode() - moda\n",
    "\n",
    "mod_sepal = dados['sepal_length'].mode()\n",
    "print(mod_sepal)\n",
    "\n",
    "# Cálculo de Separatrizes\n",
    "# Quartis\n",
    "# quantile() - quartis\n",
    "\n",
    "dados['sepal_length'].quantile([0.25, 0.5, 0.75])\n",
    "\n",
    "# outra opção\n",
    "\n",
    "np.quantile(dados['sepal_length'], [0.25, 0.5, 0.75])\n",
    "\n",
    "# Informações condensadas\n",
    "\n",
    "dados.describe()\n",
    "\n",
    "# Visão espacial dos dados\n",
    "\n",
    "x = dados['sepal_length']\n",
    "y = dados['sepal_width']\n",
    "\n",
    "plt.scatter(x, y)\n",
    "plt.xlabel('Comprimento da Sépala')\n",
    "plt.ylabel('Largura da Sépala')\n",
    "\n",
    "plt.plot(np.mean(x), np.mean(y), 'or')\n",
    "plt.plot(np.median(x), np.median(y), 'og')\n",
    "plt.plot(x.mode(), y.mode(), 'oy')"
   ]
  }
 ],
 "metadata": {
  "kernelspec": {
   "display_name": "Python 3",
   "language": "python",
   "name": "python3"
  },
  "language_info": {
   "codemirror_mode": {
    "name": "ipython",
    "version": 3
   },
   "file_extension": ".py",
   "mimetype": "text/x-python",
   "name": "python",
   "nbconvert_exporter": "python",
   "pygments_lexer": "ipython3",
   "version": "3.11.3"
  },
  "orig_nbformat": 4
 },
 "nbformat": 4,
 "nbformat_minor": 2
}
