{
 "cells": [
  {
   "cell_type": "markdown",
   "metadata": {},
   "source": [
    "## Função em outro pacote"
   ]
  },
  {
   "cell_type": "code",
   "execution_count": null,
   "metadata": {},
   "outputs": [],
   "source": [
    "# o arquivo __init__ inicia o pacote\n",
    "from pacote1 import modulo1\n",
    "\n",
    "print(type(modulo1))\n",
    "print(modulo1.soma(2, 3))"
   ]
  },
  {
   "cell_type": "code",
   "execution_count": 11,
   "metadata": {},
   "outputs": [
    {
     "name": "stdout",
     "output_type": "stream",
     "text": [
      "Rodando o Main()\n"
     ]
    }
   ],
   "source": [
    "from pacote1 import modulo2\n",
    "\n",
    "modulo2.main()"
   ]
  },
  {
   "cell_type": "code",
   "execution_count": 12,
   "metadata": {},
   "outputs": [
    {
     "name": "stdout",
     "output_type": "stream",
     "text": [
      "Soma de 1 + 2 = 3\n",
      "Subtracao de 1 + 2 = -1\n"
     ]
    }
   ],
   "source": [
    "# importando módulos de pacotes de mesmo nome\n",
    "from pacote1 import modulo1\n",
    "from pacote2 import modulo1 as modulo1_2\n",
    "\n",
    "print(f'Soma de 1 + 2 = {modulo1.soma(1, 2)}')\n",
    "print(f'Subtracao de 1 + 2 = {modulo1_2.subtracao(1, 2)}')"
   ]
  }
 ],
 "metadata": {
  "kernelspec": {
   "display_name": "Python 3",
   "language": "python",
   "name": "python3"
  },
  "language_info": {
   "codemirror_mode": {
    "name": "ipython",
    "version": 3
   },
   "file_extension": ".py",
   "mimetype": "text/x-python",
   "name": "python",
   "nbconvert_exporter": "python",
   "pygments_lexer": "ipython3",
   "version": "3.11.4"
  },
  "orig_nbformat": 4
 },
 "nbformat": 4,
 "nbformat_minor": 2
}
