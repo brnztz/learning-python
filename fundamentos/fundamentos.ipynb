{
 "cells": [
  {
   "cell_type": "markdown",
   "metadata": {},
   "source": [
    "## Fundamentos - Primeiro Código "
   ]
  },
  {
   "cell_type": "code",
   "execution_count": null,
   "metadata": {},
   "outputs": [],
   "source": [
    "print(\"primeiro comando\")\n",
    "\n",
    "1 + 2\n",
    "\n",
    "help(print)"
   ]
  },
  {
   "cell_type": "code",
   "execution_count": null,
   "metadata": {},
   "outputs": [],
   "source": [
    "1 + 2 + 3\n",
    "2 + 4 + 5"
   ]
  },
  {
   "cell_type": "code",
   "execution_count": null,
   "metadata": {},
   "outputs": [],
   "source": [
    "print(\"1 + 2 + 3\")\n",
    "print(\"2 + 4 + 5\")"
   ]
  },
  {
   "cell_type": "markdown",
   "metadata": {},
   "source": [
    "## Tipos Básicos"
   ]
  },
  {
   "cell_type": "code",
   "execution_count": null,
   "metadata": {},
   "outputs": [],
   "source": [
    "print(True)\n",
    "print(False)\n",
    "print(1.2 + 1)\n",
    "print('Aqui eu falo na minha lingua!')\n",
    "print(\"também funciona\")\n",
    "print('Você é ' + 3 * 'muito ' + 'legal!')\n",
    "# print(3 + '3') -> ambiguidade\n",
    "print([1, 2, 3])\n",
    "print({'nome': 'Pedro', 'idade': 22})\n",
    "print(None)"
   ]
  },
  {
   "cell_type": "markdown",
   "metadata": {},
   "source": [
    "## Variáveis"
   ]
  },
  {
   "cell_type": "code",
   "execution_count": null,
   "metadata": {},
   "outputs": [],
   "source": [
    "a = 10 \n",
    "b = 5.2\n",
    "print(a + b)\n",
    "\n",
    "a = 'Agora sou uma string!'\n",
    "print(a)\n",
    "\n",
    "# print(a + b) -> ambiguidade"
   ]
  },
  {
   "cell_type": "markdown",
   "metadata": {},
   "source": [
    "## Comentários"
   ]
  },
  {
   "cell_type": "code",
   "execution_count": null,
   "metadata": {},
   "outputs": [],
   "source": [
    "# Minhas variáveis\n",
    "salario = 3450.45\n",
    "despesas = 2456.2\n",
    "\n",
    "\"\"\" \n",
    "A ideia é calcular o\n",
    "quanto vai sobrar no\n",
    "final do mês!\n",
    "\"\"\"\n",
    "print (salario - despesas) \n",
    "\n",
    "# print('Fim')\n",
    "print('Fim de verdade') # comentário aqui também vale\n",
    "\n",
    "''' \n",
    "Outro comentário\n",
    "'''\n",
    "print('Fim')\n"
   ]
  },
  {
   "cell_type": "markdown",
   "metadata": {},
   "source": [
    "## Operadores Aritméticos"
   ]
  },
  {
   "cell_type": "code",
   "execution_count": null,
   "metadata": {},
   "outputs": [],
   "source": [
    "# Operadores binários\n",
    "print(2 + 3)\n",
    "print(10-20)\n",
    "print(2 * 5.3) \n",
    "print(9.4 / 3) \n",
    "print(9.4 // 3) # divisão inteira\n",
    "print(2 ** 8) # potência\n",
    "print(10 % 3) # módulo / resto\n",
    "\n",
    "a = 12\n",
    "b = a \n",
    "print(a + b)"
   ]
  },
  {
   "cell_type": "markdown",
   "metadata": {},
   "source": [
    "### Desafio Operadores"
   ]
  },
  {
   "cell_type": "code",
   "execution_count": null,
   "metadata": {},
   "outputs": [],
   "source": [
    "salario = 3450.45\n",
    "despesas = 2456.2\n",
    "percentual_despesas = despesas / salario * 100\n",
    "print(percentual_despesas)\n",
    "\n"
   ]
  },
  {
   "cell_type": "markdown",
   "metadata": {},
   "source": [
    "## Operadores Relacionais"
   ]
  },
  {
   "cell_type": "code",
   "execution_count": null,
   "metadata": {},
   "outputs": [],
   "source": [
    "3 > 4\n",
    "4 >= 3\n",
    "1 < 2\n",
    "3 <= 1\n",
    "3 != 2\n",
    "3 == 3\n",
    "2 == '2'"
   ]
  },
  {
   "cell_type": "markdown",
   "metadata": {},
   "source": [
    "## Operadores de Atribuição"
   ]
  },
  {
   "cell_type": "code",
   "execution_count": null,
   "metadata": {},
   "outputs": [],
   "source": [
    "a = 3\n",
    "a = a + 7\n",
    "print(a)\n",
    "\n",
    "a += 5 # a = a + 5\n",
    "print(a)\n",
    "\n",
    "a -= 3 # a = a - 3\n",
    "print(a)\n",
    "\n",
    "a *= 2 # a = a * 2\n",
    "print(a)\n",
    "\n",
    "a /= 4 # a = a / 4\n",
    "print(a)\n",
    "\n",
    "a %= 4 # a = a % 4\n",
    "print(a)\n",
    "\n",
    "a **= 8 # a = a ** 8\n",
    "print(a)\n",
    "\n",
    "a //= 256 # a = a // 256\n",
    "print(a)"
   ]
  },
  {
   "cell_type": "markdown",
   "metadata": {},
   "source": [
    "## Operadores Lógicos"
   ]
  },
  {
   "cell_type": "code",
   "execution_count": null,
   "metadata": {},
   "outputs": [],
   "source": [
    "True or False\n",
    "7 != 3 and 2 > 3\n",
    "\n",
    "# Tabela verdade do AND\n",
    "True and True\n",
    "True and False\n",
    "False and True\n",
    "False and False\n",
    "\n",
    "# Tabela verdade do OR\n",
    "True or True\n",
    "True or False\n",
    "False or True\n",
    "False or False\n",
    "\n",
    "# Tabela verdade do XOR\n",
    "True != True\n",
    "True != False\n",
    "False != True\n",
    "False != False\n",
    "\n",
    "# Operador de Negação (unário)\n",
    "not True\n",
    "not False\n",
    "\n",
    "not 0\n",
    "not 1\n",
    "\n",
    "# Cuidado! Operadores Bit a Bit não são operadores lógicos!\n",
    "True & False\n",
    "False | True\n",
    "True ^ False\n",
    "\n",
    "# Exemplo\n",
    "saldo = 1000\n",
    "salario = 4000\n",
    "despesas = 2967\n",
    "\n",
    "saldo_positivo = saldo > 0\n",
    "despesas_controladas = salario - despesas >= 0.2 * salario\n",
    "meta = saldo_positivo and despesas_controladas\n",
    "meta\n",
    "\n"
   ]
  },
  {
   "cell_type": "code",
   "execution_count": null,
   "metadata": {},
   "outputs": [],
   "source": [
    "# Desafio \n",
    "\n",
    "# se os dois trabalhos deram certo, a pessoa vai no shopping comprar uma tv de 50\n",
    "# se um trabalho der certo e o outro não, compra uma tv de 32\n",
    "# em ambos os casos a familia toma sorvete\n",
    "# caso ambos dão errado, a familia ganha saúde\n",
    "\n",
    "trabalho_terca = True   \n",
    "trabalho_quinta = False \n",
    "tv_50 = trabalho_terca and trabalho_quinta\n",
    "sorvete = trabalho_terca or trabalho_quinta\n",
    "tv_32 = trabalho_terca != trabalho_quinta\n",
    "mais_daudavel = not sorvete\n",
    "\n",
    "print(\"Tv50={} Tv32={} Sorvete={} Saudável={}\"\n",
    "      .format(tv_50, tv_32, sorvete, mais_daudavel))\n",
    "\n",
    "# \"{}, {} = {}\".format(1, 2, 'resultado')\n"
   ]
  },
  {
   "cell_type": "markdown",
   "metadata": {},
   "source": [
    "## Operadores Unários"
   ]
  },
  {
   "cell_type": "code",
   "execution_count": null,
   "metadata": {},
   "outputs": [],
   "source": [
    "a = 3\n",
    "# a++ não existe\n",
    "a += 1 \n",
    "a\n",
    "# a-- não existe\n",
    "a -= 1\n",
    "-a\n",
    "+a \n",
    "\n",
    "not 0\n",
    "not 1\n"
   ]
  },
  {
   "cell_type": "markdown",
   "metadata": {},
   "source": [
    "## Operadores Ternários"
   ]
  },
  {
   "cell_type": "code",
   "execution_count": null,
   "metadata": {},
   "outputs": [],
   "source": [
    "esta_chuvendo = True\n",
    "print('Hoje estou com as roupas ' + ('secas.', 'molhadas.')[esta_chuvendo])\n",
    "print('Hoje estou com as roupas ' + ('molhadas.' if esta_chuvendo else 'secas.'))"
   ]
  },
  {
   "cell_type": "markdown",
   "metadata": {},
   "source": [
    "## Operador de Membro e Operador de Identidade"
   ]
  },
  {
   "cell_type": "code",
   "execution_count": null,
   "metadata": {},
   "outputs": [],
   "source": [
    "# Operador de Membro\n",
    "lista = [1, 2, 3, 'Ana', 'Carla']\n",
    "2 in lista\n",
    "'Ana' in lista\n",
    "\n",
    "# Operador de Identidade\n",
    "x = 3\n",
    "y = x\n",
    "z = 3\n",
    "x is y\n",
    "y is z\n",
    "x is not z \n",
    "\n",
    "lista_a = [1, 2, 3]\n",
    "lista_b = lista_a\n",
    "lista_c = [1, 2, 3]\n",
    "\n",
    "lista_a is lista_b\n",
    "lista_b is lista_c\n",
    "lista_a is not lista_c"
   ]
  },
  {
   "cell_type": "markdown",
   "metadata": {},
   "source": [
    "## Bultins"
   ]
  },
  {
   "cell_type": "code",
   "execution_count": null,
   "metadata": {},
   "outputs": [],
   "source": [
    "type(1)\n",
    "# __builtins__.type('Fala Galera!')\n",
    "# __builtins__.print(10 / 3)\n",
    "# __builtins__.help(__builtins__.dir)\n",
    "# dir(__builtins__)\n",
    "\n",
    "nome = 'Saulo'\n",
    "type(nome)\n",
    "__builtins__.len(nome)"
   ]
  },
  {
   "cell_type": "markdown",
   "metadata": {},
   "source": [
    "## Conversão de Tipos"
   ]
  },
  {
   "cell_type": "code",
   "execution_count": null,
   "metadata": {},
   "outputs": [],
   "source": [
    "2 + 3\n",
    "'2' + '3'\n",
    "# 2 + '3'\n",
    "# print(2 + '3')\n",
    "\n",
    "a = 2\n",
    "b = '3'\n",
    "\n",
    "print(type(a))\n",
    "\n",
    "print(type(b))\n",
    "\n",
    "print(a + int(b)) # faz a conversão de b para inteiro\n",
    "\n",
    "print(str(a) + b) # faz a conversão de a para string\n",
    "\n",
    "print(type(str(a)))\n",
    "\n",
    "# não é porque convertemos uma string para inteiro que ela se torna um inteiro\n",
    "print(2 + float('3.4'))"
   ]
  },
  {
   "cell_type": "markdown",
   "metadata": {},
   "source": [
    "## Coerção Automática"
   ]
  },
  {
   "cell_type": "code",
   "execution_count": null,
   "metadata": {},
   "outputs": [],
   "source": [
    "# O python interpreta o resultado e escolhe se vai ser float ou inteiro\n",
    "10 / 2\n",
    "type (10 / 2)\n",
    "10 / 3\n",
    "10 // 3\n",
    "type(10 // 3)\n",
    "10 // 3.3\n",
    "type(10 // 3.3)\n",
    "2 + True\n",
    "2 + False\n",
    "type(1 + 2)\n",
    "type(1 + 2.5)\n"
   ]
  },
  {
   "cell_type": "markdown",
   "metadata": {},
   "source": [
    "## Tipos Numéricos"
   ]
  },
  {
   "cell_type": "code",
   "execution_count": null,
   "metadata": {},
   "outputs": [],
   "source": [
    "dir(int)\n",
    "dir(float)\n",
    "\n",
    "a = 5\n",
    "b = 2.5\n",
    "a / b\n",
    "a + b\n",
    "a * b\n",
    "\n",
    "type(a)\n",
    "type(b)\n",
    "type(a - b)\n",
    "\n",
    "b.is_integer() # B ele é um inteiro?\n",
    "5.0.is_integer() # 5.0 ele é um inteiro?\n",
    "\n",
    "dir(int)\n",
    "int.__add__(2, 3)\n",
    "2 + 3\n",
    "\n",
    "\n",
    "(-2).__abs__()\n",
    "abs(-2)\n",
    "# type(-2)"
   ]
  },
  {
   "cell_type": "code",
   "execution_count": null,
   "metadata": {},
   "outputs": [],
   "source": [
    "# 1.1 + 2.2\n",
    "from decimal import Decimal, getcontext\n",
    "Decimal(1) / Decimal(7)\n",
    "getcontext().prec = 4 # precisão de 4 casas decimais\n",
    "Decimal(1) / Decimal(7)\n",
    "Decimal.max(Decimal(1), Decimal(7)) # pega o maior valor\n",
    "dir(Decimal)\n",
    "\n",
    "Decimal(1.1) + Decimal(2.2)"
   ]
  },
  {
   "cell_type": "markdown",
   "metadata": {},
   "source": [
    "## Tipo String"
   ]
  },
  {
   "cell_type": "code",
   "execution_count": null,
   "metadata": {},
   "outputs": [],
   "source": [
    "dir(str)\n",
    "nome = 'Saulo' \n",
    "nome\n",
    "nome[0] # acessa uma letra no nome\n",
    "# nome[0] = 'P' # não é possível alterar uma string\n",
    "\n",
    "# 'marca d'água'\n",
    "# \"Dias D'Avila\" == 'Dias D\\'Avila'\n",
    "# \"Teste \\\" funciona!\"\n",
    "texto = 'Texto entre apostrófos pode ter \"aspas\"'\n",
    "texto\n",
    "\n",
    "doc = \"\"\"Texto com múltiplas\n",
    "... linhas\"\"\"\n",
    "doc\n",
    "print('Texto com múltiplas\\n\\t... linhas') # /n pula linha /t da um tab\n",
    "print(doc)\n",
    "\n",
    "doc2 = '''Também é possível\n",
    "... com 3 aspas simples'''\n",
    "doc2"
   ]
  },
  {
   "cell_type": "code",
   "execution_count": null,
   "metadata": {},
   "outputs": [],
   "source": [
    "nome = 'Ana Paula'\n",
    "nome[0]\n",
    "nome[6]\n",
    "nome[-2]\n",
    "nome[4:] # Range acessa o 4 elemento em diante\n",
    "nome[-5:] # Range acessa o -5 em diante\n",
    "nome[:3] # Range acessa até o elemento 3\n",
    "nome[2:5] # Começa do 2 e vai até o elemento 4 sem entrar o 5\n",
    "\n",
    "numeros = '123456789'\n",
    "numeros\n",
    "numeros[::]\n",
    "numeros[::2] # anda os numeros de 2 em 2\n",
    "numeros[1::2] # começa no número 1 e vai pulando de 2 em 2\n",
    "numeros[::-1] # inverte a ordem dos numeros\n",
    "numeros[::-2] # inverte a ordem e conta de 2 em 2\n",
    "\n",
    "nome[::-1] # inverte o nome\n"
   ]
  },
  {
   "cell_type": "code",
   "execution_count": null,
   "metadata": {},
   "outputs": [],
   "source": [
    "frase = 'Python é uma linguagem excelente'\n",
    "'py' not in frase # operador membro\n",
    "'ing' in frase\n",
    "len(frase) # tamanho\n",
    "frase.lower() # Mostra a frase em letra minuscula\n",
    "frase.upper() # Mostra a frase em letra maiscula     Em ambos os casos n troca a frase, apenas mostra\n",
    "frase = frase.upper() # Agora sim muda a variavel frase\n",
    "frase\n",
    "\n",
    "frase.split() # separa a frase\n",
    "frase.split('A')"
   ]
  },
  {
   "cell_type": "code",
   "execution_count": null,
   "metadata": {},
   "outputs": [],
   "source": [
    "a = '123'\n",
    "b = ' de Oliveira 4'\n",
    "a + b\n",
    "a.__add__(b)\n",
    "str.__add__(a, b)\n",
    "# os 3 acima são a mesma coisa\n",
    "dir(str)\n",
    "\n",
    "len(a)\n",
    "a.__len__()\n",
    "\n",
    "'1' in a\n",
    "a.__contains__('1')\n",
    "\n",
    "dir(len)"
   ]
  },
  {
   "cell_type": "markdown",
   "metadata": {},
   "source": [
    "## Lista"
   ]
  },
  {
   "cell_type": "code",
   "execution_count": null,
   "metadata": {},
   "outputs": [],
   "source": [
    "lista = [] # Em python uma lista aceita diversos tipos de elementos (Heterogeneos)\n",
    "type(lista)\n",
    "# dir(lista)\n",
    "# help(list)\n",
    "len(lista)\n",
    "lista.append(1)\n",
    "lista.append(5) # Adiciona novos elementos\n",
    "lista\n",
    "len(lista)\n",
    "\n",
    "nova_lista = [1, 5, 'Ana', 'Bia']\n",
    "nova_lista\n",
    "# Uma boa prática é usar sempre os mesmos tipos de dados dentro da lista, mesmo a estrutura aceitando\n",
    "nova_lista.remove(5) # Remove o elemento 5\n",
    "nova_lista\n",
    "nova_lista.reverse() # Reverte a ordem da lista, já alterando direto sem atribuição\n",
    "nova_lista\n",
    "\n"
   ]
  },
  {
   "cell_type": "code",
   "execution_count": null,
   "metadata": {},
   "outputs": [],
   "source": [
    "lista = [1, 5, 'Rebeca', 'Guilherme', 3.1415] # lista é uma estrutura indexada\n",
    "lista.index('Guilherme')\n",
    "# lista.index(42)\n",
    "lista[2]\n",
    "1 in lista\n",
    "'Guilherme' in lista \n",
    "'Pedro' not in lista \n",
    "lista[4]\n",
    "lista[-1]\n",
    "lista[-5]"
   ]
  },
  {
   "cell_type": "code",
   "execution_count": null,
   "metadata": {},
   "outputs": [],
   "source": [
    "lista = ['Ana', 'Lia', 'Rui', 'Paulo', 'Dani']\n",
    "lista[1:3]\n",
    "lista[1:-1]\n",
    "lista[1:]\n",
    "lista[:-1]\n",
    "lista[:]\n",
    "lista[::2]\n",
    "lista[::-1] # mesma coisa que o reverse\n",
    "del lista[2] #exclui um elemento da lista\n",
    "lista\n",
    "del lista[1:] # exclui todos os elementos a partir do 1\n",
    "lista\n"
   ]
  },
  {
   "cell_type": "markdown",
   "metadata": {},
   "source": [
    "## Tupla"
   ]
  },
  {
   "cell_type": "code",
   "execution_count": null,
   "metadata": {},
   "outputs": [],
   "source": [
    "# Uma tupla é uma sequencia imutavel\n",
    "# Diferença entre Tupla e Lista é que a tupla não pode ser modificada\n",
    "tupla = tuple()\n",
    "tupla = () # os dois são a mesma coisa - criam uma tupla\n",
    "type(tupla)\n",
    "dir(tupla)\n",
    "# help(tuple)\n",
    "tupla = ('um',) # se for uma tupla de um único elemento, tem que colocar uma vírgula no final\n",
    "type(tupla)\n",
    "tupla[0]\n",
    "# tupla[0] = 'novo'\n",
    "cores = ('verde', 'amarelo', 'azul', 'branco')\n",
    "cores[0]\n",
    "cores[-1]\n",
    "cores[1:]\n",
    "\n",
    "cores.index('amarelo')\n",
    "cores.count('Azul')\n",
    "len(cores)\n"
   ]
  },
  {
   "cell_type": "markdown",
   "metadata": {},
   "source": [
    "## Dicionário"
   ]
  },
  {
   "cell_type": "code",
   "execution_count": null,
   "metadata": {},
   "outputs": [],
   "source": [
    "# para definir um dicionário, usa-se {}\n",
    "pessoa = {'nome': 'Prof(a).Ana', 'idade':38, 'cursos': ['Inglês', 'Português']}\n",
    "type(pessoa)\n",
    "dir(dict)\n",
    "len(pessoa)\n",
    "\n",
    "pessoa\n",
    "pessoa['nome']\n",
    "pessoa['idade']\n",
    "pessoa['cursos']\n",
    "pessoa['cursos'][0]\n",
    "pessoa.keys()\n",
    "pessoa.values()\n",
    "pessoa.items()\n",
    "pessoa.get('idade')\n",
    "pessoa.get('tags', [])"
   ]
  },
  {
   "cell_type": "code",
   "execution_count": null,
   "metadata": {},
   "outputs": [],
   "source": [
    "pessoa = {'nome': 'Prof. Alberto', 'idade':43, 'cursos': ['React', 'Python']}\n",
    "pessoa['idade'] = 44\n",
    "pessoa['cursos'].append('Angular')\n",
    "pessoa\n",
    "pessoa.pop('idade') # exclui idade\n",
    "pessoa\n",
    "\n",
    "pessoa.update({'idade':40, 'Sexo': 'M'})\n",
    "pessoa\n",
    "\n",
    "del pessoa['cursos'] # exclui igual pop\n",
    "pessoa\n",
    "\n",
    "pessoa.clear() # limpa o dicionário\n",
    "pessoa"
   ]
  },
  {
   "cell_type": "markdown",
   "metadata": {},
   "source": [
    "## Conjunto"
   ]
  },
  {
   "cell_type": "code",
   "execution_count": null,
   "metadata": {},
   "outputs": [],
   "source": [
    "# É delimitado por chaves\n",
    "# Não é indexado\n",
    "# Não garante ordenação e não aceita repetição\n",
    "\n",
    "a = {1, 2, 3}\n",
    "type(a)\n",
    "a = set('dbez')\n",
    "print(a)\n",
    "\n",
    "{1, 2, 3} == {3, 2, 1, 3}\n",
    "\n",
    "# operações\n",
    "c1 = {1, 2}\n",
    "c2 = {2, 3}\n",
    "c1.union(c2)\n",
    "c1.intersection(c2)\n",
    "c1.update(c2)\n",
    "c1\n",
    "\n",
    "c2 <= c1 # c2 é um subconjunto de c1 ?\n",
    "\n",
    "{1, 2, 3} - {2} # diferença entre os dois conjuntos \n",
    "c1 - c2\n",
    "c1 -= {2}\n",
    "c1"
   ]
  },
  {
   "cell_type": "markdown",
   "metadata": {},
   "source": [
    "## Interpolação"
   ]
  },
  {
   "cell_type": "code",
   "execution_count": null,
   "metadata": {},
   "outputs": [],
   "source": [
    "from string import Template\n",
    "\n",
    "# nome, idade = 'Bruno', 21.5896\n",
    "# print('Nome: %s Idade: %.2f' % (nome, idade))\n",
    "\n",
    "nome, idade = 'Bruno', 21\n",
    "print('Nome: %s Idade: %d' % (nome, idade)) # mais antiga\n",
    "print('Nome: {0} Idade: {1}'.format(nome,idade)) # python < 3.6\n",
    "print(f'Nome: {nome} Idade: {idade}') # python >= 3.6\n",
    "\n",
    "s = Template('Nome: $nome Idade: $idade')\n",
    "print(s.substitute(nome=nome, idade=idade))\n"
   ]
  },
  {
   "cell_type": "markdown",
   "metadata": {},
   "source": [
    "## Encoding"
   ]
  },
  {
   "cell_type": "code",
   "execution_count": null,
   "metadata": {},
   "outputs": [],
   "source": [
    "# -*- coding: utf-8 -*-\n",
    "# o comentário acima é utilizado para mudar a codificação\n",
    "print(\"Hello World!\")\n",
    "\n"
   ]
  },
  {
   "cell_type": "markdown",
   "metadata": {},
   "source": [
    "## Obtendo dados do usuário"
   ]
  },
  {
   "cell_type": "code",
   "execution_count": null,
   "metadata": {},
   "outputs": [],
   "source": [
    "#! python\n",
    "from math import pi\n",
    "raio = input('Informe o raio: ')\n",
    "print('Área do círculo', pi * float(raio) ** 2)\n"
   ]
  },
  {
   "cell_type": "markdown",
   "metadata": {},
   "source": [
    "## Módulos"
   ]
  },
  {
   "cell_type": "code",
   "execution_count": null,
   "metadata": {},
   "outputs": [],
   "source": [
    "#! python\n",
    "from math import pi\n",
    "\n",
    "raio = input('Informe o raio: ')\n",
    "print('Área do círculo', pi * float(raio) ** 2)\n",
    "\n",
    "print('Nome do módulo', __name__)\n",
    "# comando utilizado no terminal\n",
    "# import nomedoarquivo - inicia o módulo"
   ]
  },
  {
   "cell_type": "markdown",
   "metadata": {},
   "source": [
    "## If Else"
   ]
  },
  {
   "cell_type": "code",
   "execution_count": null,
   "metadata": {},
   "outputs": [],
   "source": [
    "#! python\n",
    "from math import pi\n",
    "\n",
    "# Um bloco de código no python é definido pela identação\n",
    "\n",
    "if __name__ == '__main__':\n",
    "   raio = input('Informe o raio: ') \n",
    "   print('Área do círculo', pi * float(raio) ** 2)\n"
   ]
  },
  {
   "cell_type": "markdown",
   "metadata": {},
   "source": [
    "## Criando uma função"
   ]
  },
  {
   "cell_type": "code",
   "execution_count": null,
   "metadata": {},
   "outputs": [],
   "source": [
    "# Função sem Retorno\n",
    "\n",
    "#! python\n",
    "from math import pi\n",
    "\n",
    "\n",
    "def circulo(raio):\n",
    "   print('Área do círculo', pi * float(raio) ** 2)\n",
    "\n",
    "\n",
    "if __name__ == '__main__':\n",
    "   raio = input('Informe o raio: ')\n",
    "   circulo(raio)"
   ]
  },
  {
   "cell_type": "code",
   "execution_count": null,
   "metadata": {},
   "outputs": [],
   "source": [
    "# Função com retorno\n",
    "\n",
    "#! python\n",
    "from math import pi\n",
    "\n",
    "\n",
    "def circulo(raio):\n",
    "   return pi * float(raio) ** 2\n",
    "\n",
    "\n",
    "if __name__ == '__main__':\n",
    "   raio = input('Informe o raio: ')\n",
    "   area = circulo(raio)\n",
    "   print('Área do círculo', area)"
   ]
  },
  {
   "cell_type": "markdown",
   "metadata": {},
   "source": [
    "## Alterar cor de uma mensagem"
   ]
  },
  {
   "cell_type": "code",
   "execution_count": null,
   "metadata": {},
   "outputs": [],
   "source": [
    "ERRO = '\\033[91m'\n",
    "NORMAL = '\\033[0m'\n",
    "\n",
    "print(ERRO + 'Essa mensagem ta Vermelha' + NORMAL)\n",
    "print('Essa mensagem ta normal')"
   ]
  }
 ],
 "metadata": {
  "kernelspec": {
   "display_name": "Python 3",
   "language": "python",
   "name": "python3"
  },
  "language_info": {
   "codemirror_mode": {
    "name": "ipython",
    "version": 3
   },
   "file_extension": ".py",
   "mimetype": "text/x-python",
   "name": "python",
   "nbconvert_exporter": "python",
   "pygments_lexer": "ipython3",
   "version": "3.11.4"
  },
  "orig_nbformat": 4
 },
 "nbformat": 4,
 "nbformat_minor": 2
}
