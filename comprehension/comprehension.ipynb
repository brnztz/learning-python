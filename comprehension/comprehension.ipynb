{
 "cells": [
  {
   "cell_type": "markdown",
   "metadata": {},
   "source": [
    "## Comprehension"
   ]
  },
  {
   "cell_type": "code",
   "execution_count": null,
   "metadata": {},
   "outputs": [],
   "source": [
    "# [expressão for item in list]\n",
    "# Versão List Comprehension\n",
    "dobros = [i * 2 for i in range(10)]\n",
    "print(dobros)\n",
    "\n",
    "# Versão normal\n",
    "dobros = []\n",
    "for i in range(10):\n",
    "    dobros.append(i * 2)\n",
    "print(dobros)"
   ]
  },
  {
   "cell_type": "code",
   "execution_count": null,
   "metadata": {},
   "outputs": [],
   "source": [
    "# [expressão for item in list if condicional]\n",
    "dobros_dos_pares = [i * 2 for i in range(10) if i % 2 == 0]\n",
    "print(dobros_dos_pares)\n",
    "\n",
    "# Versão \"normal\"\n",
    "dobros_dos_pares = []\n",
    "for i in range(10):\n",
    "    if i % 2 == 0:\n",
    "        dobros_dos_pares.append(i * 2)\n",
    "print(dobros_dos_pares)"
   ]
  },
  {
   "cell_type": "code",
   "execution_count": null,
   "metadata": {},
   "outputs": [],
   "source": [
    "# Generators\n",
    "generator = (i ** 2 for i in range(10) if i % 2 == 0)\n",
    "print(next(generator)) # 0\n",
    "print(next(generator)) # 4\n",
    "print(next(generator)) # 16\n",
    "print(next(generator)) # 36\n",
    "print(next(generator)) # 64\n"
   ]
  },
  {
   "cell_type": "code",
   "execution_count": null,
   "metadata": {},
   "outputs": [],
   "source": [
    "# Generator com For\n",
    "generator = (i ** 2 for i in range(10) if i % 2 == 0)\n",
    "\n",
    "for numero in generator:\n",
    "    print(numero)"
   ]
  },
  {
   "cell_type": "code",
   "execution_count": null,
   "metadata": {},
   "outputs": [],
   "source": [
    "# Dict Comprehension\n",
    "dicionario = {i: i * 2 for i in range(10) if i % 2 == 0}\n",
    "\n",
    "for numero, dobro in dicionario.items():\n",
    "    print(f'{numero} x 2 = {dobro}')"
   ]
  },
  {
   "cell_type": "markdown",
   "metadata": {},
   "source": [
    "## Match Case com Comprehension"
   ]
  },
  {
   "cell_type": "code",
   "execution_count": null,
   "metadata": {},
   "outputs": [],
   "source": [
    "def get_tipo_dia(dia):\n",
    "    match dia:\n",
    "        case 1 | 7: return 'Fim de semana'\n",
    "        case 2 | 3 | 4 | 5 | 6: return 'Dia de semana'\n",
    "        case _: return '** Dia inválido **'\n",
    "\n",
    "\n",
    "dia_escolhido = (i for i in range(1, 9))\n",
    "for dia in dia_escolhido:\n",
    "    print(f'{dia}: {get_tipo_dia(dia)}')"
   ]
  }
 ],
 "metadata": {
  "kernelspec": {
   "display_name": "Python 3",
   "language": "python",
   "name": "python3"
  },
  "language_info": {
   "codemirror_mode": {
    "name": "ipython",
    "version": 3
   },
   "file_extension": ".py",
   "mimetype": "text/x-python",
   "name": "python",
   "nbconvert_exporter": "python",
   "pygments_lexer": "ipython3",
   "version": "3.11.4"
  },
  "orig_nbformat": 4
 },
 "nbformat": 4,
 "nbformat_minor": 2
}
