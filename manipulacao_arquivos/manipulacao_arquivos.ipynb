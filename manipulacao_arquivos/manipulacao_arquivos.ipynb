{
 "cells": [
  {
   "cell_type": "markdown",
   "metadata": {},
   "source": [
    "## Leitura de Arquivos"
   ]
  },
  {
   "cell_type": "code",
   "execution_count": null,
   "metadata": {},
   "outputs": [],
   "source": [
    "# Consome Muita Memória\n",
    "arquivo = open('pessoas.csv') # abre o arquivo\n",
    "dados = arquivo.read() # le o arquivo\n",
    "arquivo.close() # fecha o arquivo\n",
    "\n",
    "for registro in dados.splitlines(): # quebra o arquivo em linhas\n",
    "    print('Nome: {}, Idade: {}'.format(*registro.split(','))) \n"
   ]
  },
  {
   "cell_type": "code",
   "execution_count": null,
   "metadata": {},
   "outputs": [],
   "source": [
    "# Leitura stream de arquivo\n",
    "arquivo = open('pessoas.csv')\n",
    "for registro in arquivo:\n",
    "    print('Nome: {}, Idade: {}'.format(*registro.split(',')))\n",
    "arquivo.close()\n"
   ]
  },
  {
   "cell_type": "code",
   "execution_count": null,
   "metadata": {},
   "outputs": [],
   "source": [
    "# Leitura Stream\n",
    "arquivo = open('pessoas.csv')\n",
    "for registro in arquivo:\n",
    "    print('Nome: {}, Idade: {}'.format(*registro.strip().split(',')))\n",
    "arquivo.close()\n",
    "# a função .strip() remove os espaços em branco e o .split(',') separa os dados por vírgula"
   ]
  },
  {
   "cell_type": "code",
   "execution_count": null,
   "metadata": {},
   "outputs": [],
   "source": [
    "# uso do try finally para fechar o arquivo\n",
    "try:\n",
    "    arquivo = open('pessoas.csv')\n",
    "    for registro in arquivo:\n",
    "        print('Nome: {}, Idade: {}'.format(*registro.strip().split(',')))\n",
    "finally:\n",
    "    arquivo.close()\n",
    "\n",
    "if arquivo.closed:\n",
    "    print('Arquivo já foi fechado')\n",
    "# mesmo que aconteca um erro, o finally vai fechar o arquivo"
   ]
  },
  {
   "cell_type": "code",
   "execution_count": null,
   "metadata": {},
   "outputs": [],
   "source": [
    "# Leitura com bloco With\n",
    "# Já garante que o arquivo seja fechado no final, mesmo que ocorra algum erro\n",
    "with open('pessoas.csv') as arquivo:\n",
    "    for registro in arquivo:\n",
    "        print('Nome: {}, Idade: {}'.format(*registro.strip().split(',')))\n",
    "\n",
    "\n",
    "if arquivo.closed:\n",
    "    print('Arquivo já foi fechado')"
   ]
  },
  {
   "cell_type": "code",
   "execution_count": null,
   "metadata": {},
   "outputs": [],
   "source": [
    "# cria um arquivo e escreve nele\n",
    "with open('pessoas.csv') as arquivo:\n",
    "    with open('pessoas.txt', 'w') as saida:\n",
    "        for registro in arquivo:\n",
    "            pessoa = registro.strip().split(',')\n",
    "            print('Nome: {}, Idade: {}'.format(*pessoa), file=saida)\n",
    "\n",
    "if arquivo.closed:\n",
    "    print('Arquivo já foi fechado')"
   ]
  },
  {
   "cell_type": "code",
   "execution_count": null,
   "metadata": {},
   "outputs": [],
   "source": [
    "# Leitura com Módulo csv\n",
    "import csv\n",
    "\n",
    "with open('pessoas.csv') as entrada:\n",
    "    for pessoa in csv.reader(entrada):\n",
    "        print('Nome: {}, Idade: {}'.format(*pessoa))"
   ]
  },
  {
   "cell_type": "markdown",
   "metadata": {},
   "source": [
    "## Desafio"
   ]
  },
  {
   "cell_type": "code",
   "execution_count": null,
   "metadata": {},
   "outputs": [],
   "source": [
    "import csv\n",
    "from urllib import request  # Biblioteca para trabalhar com URL\n",
    "\n",
    "\n",
    "def read(url):\n",
    "    with request.urlopen(url) as entrada:\n",
    "        print('Baixando o CSV...')\n",
    "        dados = entrada.read().decode('latin1')\n",
    "        print('Download completo!')\n",
    "        for cidade in csv.reader(dados.splitlines()):\n",
    "            print(f'{cidade[8]}: {cidade[3]}')\n",
    "\n",
    "\n",
    "if __name__ == '__main__':\n",
    "    read(r'http://files.cod3r.com.br/curso-python/desafio-ibge.csv')"
   ]
  }
 ],
 "metadata": {
  "kernelspec": {
   "display_name": "Python 3",
   "language": "python",
   "name": "python3"
  },
  "language_info": {
   "codemirror_mode": {
    "name": "ipython",
    "version": 3
   },
   "file_extension": ".py",
   "mimetype": "text/x-python",
   "name": "python",
   "nbconvert_exporter": "python",
   "pygments_lexer": "ipython3",
   "version": "3.11.4"
  },
  "orig_nbformat": 4
 },
 "nbformat": 4,
 "nbformat_minor": 2
}
