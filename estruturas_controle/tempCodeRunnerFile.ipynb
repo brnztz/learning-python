def sortear_dado():
    rn = randint(1, 6)
    return rn

sortear_dado()