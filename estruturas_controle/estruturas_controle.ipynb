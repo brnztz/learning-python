{
 "cells": [
  {
   "cell_type": "markdown",
   "metadata": {},
   "source": [
    "## Desafio IF"
   ]
  },
  {
   "cell_type": "code",
   "execution_count": null,
   "metadata": {},
   "outputs": [],
   "source": [
    "# desafio 1\n",
    "\n",
    "def nota_conceito(valor):\n",
    "    nota = float(valor)\n",
    "\n",
    "    if nota > 10:\n",
    "        return 'Nota inválida'\n",
    "    elif nota >= 9.1:\n",
    "        return 'A'\n",
    "    elif nota >= 8.1:\n",
    "        return 'A-'\n",
    "    elif nota >= 7.1:\n",
    "        return 'B'\n",
    "    elif nota >= 6.1:\n",
    "        return 'B-'\n",
    "    elif nota >= 5.1:\n",
    "        return 'C'\n",
    "    elif nota >= 4.1:\n",
    "        return 'C-'\n",
    "    elif nota >= 3.1:\n",
    "        return 'D'\n",
    "    elif nota >= 2.1:\n",
    "        return 'D-'\n",
    "    elif nota >= 1.1:\n",
    "        return 'E'\n",
    "    elif nota >= 0:\n",
    "        return 'E-'\n",
    "    else:\n",
    "        return 'Nota inválida'\n",
    "\n",
    "\n",
    "valor_informado = input('Nota do aluno: ')\n",
    "conceito = nota_conceito(valor_informado)\n",
    "print(conceito)"
   ]
  },
  {
   "cell_type": "code",
   "execution_count": null,
   "metadata": {},
   "outputs": [],
   "source": [
    "# desafio 2\n",
    "\n",
    "def faixa_etaria(idade):\n",
    "    if 0 <= idade < 18:\n",
    "        return 'Menor de idade'\n",
    "    elif idade in range(18, 65):\n",
    "        return 'Adulto'\n",
    "    elif idade in range(65, 100):\n",
    "        return 'Melhor idade'\n",
    "    elif idade >= 100:\n",
    "        return 'Centenário'\n",
    "    else:\n",
    "        return 'idade inválida'\n",
    "\n",
    "\n",
    "for idade in (18, 40, 92, 120, -10):\n",
    "    print(f'{idade}: {faixa_etaria(idade)}')"
   ]
  },
  {
   "cell_type": "markdown",
   "metadata": {},
   "source": [
    "## While"
   ]
  },
  {
   "cell_type": "code",
   "execution_count": null,
   "metadata": {},
   "outputs": [],
   "source": [
    "# while True:\n",
    "#    print('Laço Infinito')\n",
    "\n",
    "from random import randint  # função para gerar um valor aleatório inteiro\n",
    "\n",
    "numero_informado = -1\n",
    "numero_secreto = randint(0, 9)\n",
    "\n",
    "while numero_informado != numero_secreto:\n",
    "    numero_informado = int(input('Informe o número: '))\n",
    "\n",
    "print('Número secreto {} foi encontrado!'.format(numero_secreto))"
   ]
  },
  {
   "cell_type": "markdown",
   "metadata": {},
   "source": [
    "## For"
   ]
  },
  {
   "cell_type": "code",
   "execution_count": null,
   "metadata": {},
   "outputs": [],
   "source": [
    "# Percorrer os números\n",
    "for i in range(1, 11):\n",
    "    print('i = {}'.format(i))\n",
    "\n",
    "for j in range(10):\n",
    "    print(f'j = {j}')\n",
    "\n",
    "for x in range(1, 11):\n",
    "    for y in range(1, 11):\n",
    "        print(f'{x} * {y} = {x * y}')"
   ]
  },
  {
   "cell_type": "code",
   "execution_count": 1,
   "metadata": {},
   "outputs": [
    {
     "name": "stdout",
     "output_type": "stream",
     "text": [
      "p,a,r,a,l,e,l,e,p,í,p,e,d,o,Fim\n",
      "Rafaela\n",
      "Pedro\n",
      "Renato\n",
      "Maria\n",
      "1) Rafaela\n",
      "2) Pedro\n",
      "3) Renato\n",
      "4) Maria\n",
      "Hoje é Domingo\n",
      "Hoje é Segunda\n",
      "Hoje é Terça\n",
      "Hoje é Quarta\n",
      "Hoje é Quinta\n",
      "Hoje é Sexta\n",
      "Hoje é Sábado\n",
      "e\n",
      "i\n",
      "o\n",
      "u\n",
      "g\n",
      "a\n",
      "l\n",
      " \n",
      "m\n",
      "t\n",
      "1\n",
      "2\n",
      "3\n",
      "4\n",
      "5\n",
      "6\n"
     ]
    }
   ],
   "source": [
    "# Percorrer as letras de uma palavra\n",
    "palavra = 'paralelepípedo'\n",
    "for letra in palavra:\n",
    "    print(letra, end=',')\n",
    "print('Fim')\n",
    "\n",
    "aprovados = ['Rafaela', 'Pedro', 'Renato', 'Maria']\n",
    "for nome in aprovados:\n",
    "    print(nome)\n",
    "\n",
    "for posicao, nome in enumerate(aprovados):\n",
    "    print(f'{posicao + 1})', nome)\n",
    "\n",
    "dias_semana = ('Domingo', 'Segunda', 'Terça',\n",
    "               'Quarta', 'Quinta', 'Sexta', 'Sábado')\n",
    "for dia in dias_semana:\n",
    "    print(f'Hoje é {dia}')\n",
    "\n",
    "for letra in set('muito legal'):\n",
    "    print(letra)\n",
    "\n",
    "for numero in {1, 2, 3, 4, 5, 6}:\n",
    "    print(numero)"
   ]
  },
  {
   "cell_type": "code",
   "execution_count": null,
   "metadata": {},
   "outputs": [],
   "source": [
    "# Percorrer Dicionários\n",
    "\n",
    "produto = {'nome': 'Caneta Chic', 'preco': 14.99,\n",
    "           'importada': True, 'estoque': 793}\n",
    "\n",
    "for chave in produto:\n",
    "    print(chave)\n",
    "\n",
    "for valor in produto.values():\n",
    "    print(valor)\n",
    "\n",
    "for chave, valor in produto.items():\n",
    "    print(chave, '=', valor)"
   ]
  },
  {
   "cell_type": "code",
   "execution_count": null,
   "metadata": {},
   "outputs": [],
   "source": [
    "# for i in range(1, 11):\n",
    "#    if i == 12:\n",
    "#        break\n",
    "#    print(i, end=' ')\n",
    "# else:\n",
    "#    print('Fim!')\n",
    "\n",
    "# desafio\n",
    "\n",
    "from random import randint\n",
    "\n",
    "\n",
    "def sortear_dado():\n",
    "    return randint(1, 6)\n",
    "\n",
    "\n",
    "for i in range(1, 7):\n",
    "    if i % 2 == 1:\n",
    "        continue\n",
    "    if sortear_dado() == i:\n",
    "        print('Acertou', i)\n",
    "        break\n",
    "else:\n",
    "    print('Não acertou o número')"
   ]
  },
  {
   "cell_type": "code",
   "execution_count": 2,
   "metadata": {},
   "outputs": [
    {
     "name": "stdout",
     "output_type": "stream",
     "text": [
      "Texto possui pelo menos uma palavra proibida: futebol\n",
      "Texto autorizado: A praia foi divertida\n",
      "Texto autorizado: Maria gosta de cinema e teatro\n",
      "Texto autorizado: Ela adora esportes radicais\n",
      "Texto possui pelo menos uma palavra proibida: futebol\n",
      "Texto autorizado: A praia foi divertida\n",
      "Texto autorizado: Maria gosta de cinema e teatro\n",
      "Texto autorizado: Ela adora esportes radicais\n"
     ]
    }
   ],
   "source": [
    "# Usa-se letras maiusculas para variáveis constantes\n",
    "PALAVRAS_PROIBIDAS = ('futebol', 'religião', 'política')\n",
    "textos = [\n",
    "    'João gosta de futebol e política',\n",
    "    'A praia foi divertida',\n",
    "    'Maria gosta de cinema e teatro',\n",
    "    'Ela adora esportes radicais'\n",
    "]\n",
    "\n",
    "# FOR Sem ELSE\n",
    "for texto in textos:\n",
    "    found = False\n",
    "    for palavra in texto.lower().split():\n",
    "        if palavra in PALAVRAS_PROIBIDAS:\n",
    "            print('Texto possui pelo menos uma palavra proibida:', palavra)\n",
    "            found = True\n",
    "            break\n",
    "    if not found:\n",
    "        print('Texto autorizado:', texto)\n",
    "\n",
    "# FOR COM ELSE\n",
    "for texto in textos:\n",
    "    for palavra in texto.lower().split():\n",
    "        if palavra in PALAVRAS_PROIBIDAS:\n",
    "            print('Texto possui pelo menos uma palavra proibida:', palavra)\n",
    "            break\n",
    "    else:\n",
    "        print('Texto autorizado:', texto)"
   ]
  },
  {
   "cell_type": "markdown",
   "metadata": {},
   "source": [
    "## Break e Continue"
   ]
  },
  {
   "cell_type": "code",
   "execution_count": null,
   "metadata": {},
   "outputs": [],
   "source": [
    "for x in range(1, 11):\n",
    "    if x % 2 == 0:\n",
    "        continue\n",
    "    print(x)\n",
    "\n",
    "for x in range(1, 11):\n",
    "    if x == 5:\n",
    "        break\n",
    "    print(x)"
   ]
  },
  {
   "cell_type": "markdown",
   "metadata": {},
   "source": [
    "## Match Case"
   ]
  },
  {
   "cell_type": "code",
   "execution_count": null,
   "metadata": {},
   "outputs": [],
   "source": [
    "# Exemplo com o antigo switch case simulado com dicionário\n",
    "def get_dia_semana(usuario):\n",
    "    dias = {\n",
    "        1: 'Domingo',\n",
    "        2: 'Segunda',\n",
    "        3: 'Terça',\n",
    "        4: 'Quarta',\n",
    "        5: 'Quinta',\n",
    "        6: 'Sexta',\n",
    "        7: 'Sábado'\n",
    "    }\n",
    "    return dias.get(dia, '** inválido **')\n",
    "\n",
    "for dia in range(0, 9):\n",
    "  print(f'{dia}: {get_dia_semana(dia)}')\n",
    "\n",
    "# Exemplo com o Match Case\n",
    "def get_dia_semana(dia):\n",
    "   match dia:\n",
    "         case 1:\n",
    "            return 'Domingo'\n",
    "         case 2: \n",
    "            return 'Segunda' \n",
    "         case 3: \n",
    "            return 'Terça'\n",
    "         case 4:\n",
    "            return 'Quarta'\n",
    "         case 5:\n",
    "            return 'Quinta'\n",
    "         case 6:\n",
    "            return 'Sexta'\n",
    "         case 7:\n",
    "            return 'Sábado'\n",
    "         case _:\n",
    "            return '** inválido **'     \n",
    "\n",
    "for dia in range(0, 9):\n",
    "    print(f'{dia}: {get_dia_semana(dia)}')  \n"
   ]
  }
 ],
 "metadata": {
  "kernelspec": {
   "display_name": "Python 3",
   "language": "python",
   "name": "python3"
  },
  "language_info": {
   "codemirror_mode": {
    "name": "ipython",
    "version": 3
   },
   "file_extension": ".py",
   "mimetype": "text/x-python",
   "name": "python",
   "nbconvert_exporter": "python",
   "pygments_lexer": "ipython3",
   "version": "3.11.4"
  },
  "orig_nbformat": 4
 },
 "nbformat": 4,
 "nbformat_minor": 2
}
