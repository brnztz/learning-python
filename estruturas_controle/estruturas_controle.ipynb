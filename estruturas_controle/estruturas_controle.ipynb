{
 "cells": [
  {
   "cell_type": "markdown",
   "metadata": {},
   "source": [
    "## Desafio IF"
   ]
  },
  {
   "cell_type": "code",
   "execution_count": 4,
   "metadata": {},
   "outputs": [
    {
     "name": "stdout",
     "output_type": "stream",
     "text": [
      "Nota Inválida\n"
     ]
    }
   ],
   "source": [
    "nota = input(\"Digite a nota do aluno: \")\n",
    "if float(nota) >= 0 and float(nota) <= 1:\n",
    "    print(nota, 'equivale a letra E-')\n",
    "elif float(nota) >= 1.1 and float(nota) <= 2:\n",
    "    print(nota, 'equivale a letra E')\n",
    "elif float(nota) >= 2.1 and float(nota) <= 3:\n",
    "    print(nota, 'equivale a letra D-')\n",
    "elif float(nota) >= 3.1 and float(nota) <= 4:\n",
    "    print(nota, 'equivale a letra D')\n",
    "elif float(nota) >= 4.1 and float(nota) <= 5:\n",
    "    print(nota, 'equivale a letra C-')\n",
    "elif float(nota) >= 5.1 and float(nota) <= 6:\n",
    "    print(nota, 'equivale a letra C')\n",
    "elif float(nota) >= 6.1 and float(nota) <= 7:\n",
    "    print(nota, 'equivale a letra B-')\n",
    "elif float(nota) >= 7.1 and float(nota) <= 8:\n",
    "    print(nota, 'equivale a letra B')\n",
    "elif float(nota) >= 8.1 and float(nota) <= 9:\n",
    "    print(nota, 'equivale a letra A-')\n",
    "elif float(nota) >= 9.1 and float(nota) <= 10:\n",
    "    print(nota, 'equivale a letra A')\n",
    "else:\n",
    "    print('Nota Inválida')    \n"
   ]
  }
 ],
 "metadata": {
  "kernelspec": {
   "display_name": "Python 3",
   "language": "python",
   "name": "python3"
  },
  "language_info": {
   "codemirror_mode": {
    "name": "ipython",
    "version": 3
   },
   "file_extension": ".py",
   "mimetype": "text/x-python",
   "name": "python",
   "nbconvert_exporter": "python",
   "pygments_lexer": "ipython3",
   "version": "3.11.4"
  },
  "orig_nbformat": 4
 },
 "nbformat": 4,
 "nbformat_minor": 2
}
